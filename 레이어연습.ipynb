{
 "cells": [
  {
   "cell_type": "code",
   "execution_count": 1,
   "metadata": {},
   "outputs": [],
   "source": [
    "## encoder : kernel size = 4, stride = 2, leakyReLU(0.2)\n",
    "from keras import layers, Input, Model\n",
    "\n",
    "class EncodeBlock(layers.Layer):\n",
    "    def __init__(self, n_filters, use_bn=True):\n",
    "        super(EncodeBlock, self).__init__()\n",
    "        self.use_bn = use_bn       \n",
    "        self.conv = layers.Conv2D(n_filters, 4, 2, \"same\", use_bias=False)\n",
    "        self.batchnorm = layers.BatchNormalization()\n",
    "        self.lrelu= layers.LeakyReLU(0.2)\n",
    "\n",
    "    def call(self, x):\n",
    "        x = self.conv(x)\n",
    "        if self.use_bn:\n",
    "            x = self.batchnorm(x)\n",
    "        return self.lrelu(x)\n",
    "\n",
    "class DecodeBlock(layers.Layer):\n",
    "    def __init__(self, f, dropout=True):\n",
    "        super(DecodeBlock, self).__init__()\n",
    "        self.dropout = dropout\n",
    "        self.Transconv = layers.Conv2DTranspose(f, 4, 2, \"same\", use_bias=False)\n",
    "        self.batchnorm = layers.BatchNormalization()\n",
    "        self.relu = layers.ReLU()\n",
    "        \n",
    "    def call(self, x):\n",
    "        x = self.Transconv(x)\n",
    "        x = self.batchnorm(x)\n",
    "        if self.dropout:\n",
    "            x = layers.Dropout(.5)(x)\n",
    "        return self.relu(x)"
   ]
  },
  {
   "cell_type": "code",
   "execution_count": 7,
   "metadata": {},
   "outputs": [
    {
     "name": "stdout",
     "output_type": "stream",
     "text": [
      "(None, 16, 16, 512)\n",
      "(None, 256, 256, 64)\n",
      "(None, 512, 512, 1)\n"
     ]
    }
   ],
   "source": [
    "inp = Input((512,512,1))\n",
    "## down\n",
    "x00 = EncodeBlock(64)(inp)\n",
    "x10 = EncodeBlock(128)(x00)\n",
    "x20 = EncodeBlock(256)(x10)\n",
    "x30 = EncodeBlock(512)(x20)\n",
    "\n",
    "## bottle\n",
    "x40 = EncodeBlock(512)(x30)\n",
    "print(x40.shape)\n",
    "\n",
    "## middle-1\n",
    "x10up = DecodeBlock(64)(x10)\n",
    "x01 = layers.Concatenate()([x00, x10up])\n",
    "x20up = DecodeBlock(128)(x20)\n",
    "x11 = layers.Concatenate()([x10, x20up])\n",
    "x30up = DecodeBlock(256)(x30)\n",
    "x21 = layers.Concatenate()([x20, x30up])\n",
    "\n",
    "## middle-2\n",
    "x11up = DecodeBlock(64)(x11)\n",
    "x02 = layers.Concatenate()([x00, x01, x11up])\n",
    "x21up = DecodeBlock(128)(x21)\n",
    "x12 = layers.Concatenate()([x10, x11, x21up])\n",
    "\n",
    "## middle-3\n",
    "x12up = DecodeBlock(64)(x12)\n",
    "x03 = layers.Concatenate()([x00, x01, x02, x12up])\n",
    "\n",
    "## up\n",
    "x40up = DecodeBlock(512)(x40)\n",
    "x31 = layers.Concatenate()([x30, x40up])\n",
    "x31up = DecodeBlock(256)(x31)\n",
    "x22 = layers.Concatenate()([x20, x21, x31up])\n",
    "x22up = DecodeBlock(128)(x22)\n",
    "x13 = layers.Concatenate()([x10, x11, x12, x22up])\n",
    "x13up = DecodeBlock(64)(x13)\n",
    "print(x13up.shape)\n",
    "x04 = layers.Concatenate()([x00, x01, x02, x03, x13up])\n",
    "x = layers.Conv2DTranspose(1, 4, 2, \"same\", use_bias=False)(x04)\n",
    "print(x.shape)"
   ]
  }
 ],
 "metadata": {
  "kernelspec": {
   "display_name": "tf",
   "language": "python",
   "name": "python3"
  },
  "language_info": {
   "codemirror_mode": {
    "name": "ipython",
    "version": 3
   },
   "file_extension": ".py",
   "mimetype": "text/x-python",
   "name": "python",
   "nbconvert_exporter": "python",
   "pygments_lexer": "ipython3",
   "version": "3.10.8 | packaged by conda-forge | (main, Nov  4 2022, 13:42:51) [MSC v.1916 64 bit (AMD64)]"
  },
  "orig_nbformat": 4,
  "vscode": {
   "interpreter": {
    "hash": "02aaae3c9b50b62c88d0cc652c4ef3b1b4bf05515e9d7a066ea77f7c79246682"
   }
  }
 },
 "nbformat": 4,
 "nbformat_minor": 2
}
